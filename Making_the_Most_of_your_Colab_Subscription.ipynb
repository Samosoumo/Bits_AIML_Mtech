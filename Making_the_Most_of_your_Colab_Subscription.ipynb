{
  "cells": [
    {
      "cell_type": "markdown",
      "metadata": {
        "id": "view-in-github",
        "colab_type": "text"
      },
      "source": [
        "<a href=\"https://colab.research.google.com/github/Samosoumo/Bits_AIML_Mtech/blob/main/Making_the_Most_of_your_Colab_Subscription.ipynb\" target=\"_parent\"><img src=\"https://colab.research.google.com/assets/colab-badge.svg\" alt=\"Open In Colab\"/></a>"
      ]
    },
    {
      "cell_type": "markdown",
      "metadata": {
        "id": "SKQ4bH7qMGrA"
      },
      "source": [
        "# Making the Most of your Colab Subscription\n",
        "\n"
      ]
    },
    {
      "cell_type": "markdown",
      "source": [
        "#########################CONVERSATIONAL AI Assignment GROUP-66 ####################Assignment 2 – Problem Statement F######################\n",
        "\n",
        "Team Members:\n",
        "\n",
        "GOURAV KALRA: 2022ac05091\n",
        "SAMOSOUMO BARAL:2022ac05496\n",
        "RAKESH BAROLIYA:2022ac05019\n",
        "KULKARNI SUDHANVA PRASAD:2022ac05006\n"
      ],
      "metadata": {
        "id": "tC_Ogy8oN5tM"
      }
    },
    {
      "cell_type": "code",
      "source": [
        "##!pip install streamlit\n",
        "#!npm install -g localtunnel\n",
        "#!pip install transformers spacy huggingface-hub certifi tensorflow\n",
        "#!python -m spacy download en_core_web_sm\n",
        "\n",
        "# Write the backend logic and Streamlit app to a file\n",
        "app_code = \"\"\"\n",
        "import spacy\n",
        "from transformers import pipeline, AutoModelForQuestionAnswering, AutoTokenizer\n",
        "import streamlit as st\n",
        "from huggingface_hub import HfApi, HfFolder\n",
        "import os\n",
        "import certifi\n",
        "\n",
        "# Ensure the certifi certificate bundle is used\n",
        "os.environ['REQUESTS_CA_BUNDLE'] = certifi.where()\n",
        "\n",
        "# Set Hugging Face API token\n",
        "api_token = \"your_api_token_here\"\n",
        "HfFolder.save_token(api_token)\n",
        "\n",
        "# Load a specialized model for Question Answering\n",
        "model_name = \"deepset/roberta-base-squad2\"\n",
        "model = AutoModelForQuestionAnswering.from_pretrained(model_name)\n",
        "tokenizer = AutoTokenizer.from_pretrained(model_name)\n",
        "qa_pipeline = pipeline(\"question-answering\", model=model, tokenizer=tokenizer)\n",
        "\n",
        "# Load SpaCy for NER and intent capture\n",
        "nlp = spacy.load(\"en_core_web_sm\")\n",
        "\n",
        "def process_query(query):\n",
        "    # Provide a relevant medical context\n",
        "    context = \\\"\"\"\n",
        "    Diabetes is a chronic (long-lasting) health condition that affects how your body turns food into energy.\n",
        "    Most of the food you eat is broken down into sugar (also called glucose) and released into your bloodstream.\n",
        "    When your blood sugar goes up, it signals your pancreas to release insulin.\n",
        "    Insulin acts like a key to let the blood sugar into your body’s cells for use as energy.\n",
        "    With diabetes, your body doesn’t make enough insulin or can’t use it as well as it should.\n",
        "    When there isn’t enough insulin or cells stop responding to insulin, too much blood sugar stays in your bloodstream,\n",
        "    which can cause serious health problems, such as heart disease, vision loss, and kidney disease.\n",
        "    Symptoms of diabetes include increased thirst, frequent urination, hunger, fatigue, and blurred vision.\n",
        "    Treatment for diabetes includes a healthy diet, regular exercise, and medication.\n",
        "    Cancer is a group of diseases involving abnormal cell growth with the potential to invade or spread to other parts of the body.\n",
        "    These contrast with benign tumors, which do not spread. Possible signs and symptoms include a lump, abnormal bleeding, prolonged cough,\n",
        "    unexplained weight loss, and a change in bowel movements. While these symptoms may indicate cancer, they can also have other causes.\n",
        "    Over 100 types of cancers affect humans. Tobacco use is the cause of about 22% of cancer deaths.\n",
        "    Another 10% are due to obesity, poor diet, lack of physical activity, and drinking alcohol. Other factors include certain infections,\n",
        "    exposure to ionizing radiation, and environmental pollutants. In the developing world, nearly 20% of cancers are due to infections\n",
        "    such as hepatitis B, hepatitis C, and human papillomavirus infection. These factors act, at least partly, by changing the genes of a cell.\n",
        "    Typically, many genetic changes are required before cancer develops.\n",
        "    Approximately 5–10% of cancers are due to inherited genetic defects from a person's parents.\n",
        "    Cancer can be detected by certain signs and symptoms or screened through medical tests.\n",
        "    It is then typically further investigated by medical imaging and confirmed by biopsy. The most common types of cancer in males\n",
        "    are lung cancer, prostate cancer, colorectal cancer, and stomach cancer. In females, the most common types are breast cancer,\n",
        "    colorectal cancer, lung cancer, and cervical cancer. The average five-year survival rate for children with\n",
        "   cancer in the developed world is about 80%. For cancer in the United States, the average five-year survival rate is 66%. Treatment may include chemotherapy, radiation therapy, and surgery. The chances of survival depend on the type of cancer and the extent of disease at the start of treatment. In 2015, about 90.5 million people had cancer. As of 2019, about 18 million new cases occur annually. It caused about 8.8 million deaths (15.7% of deaths). The most common types are lung cancer (1.69 million deaths), liver cancer (788,000 deaths), colorectal cancer (774,000 deaths), stomach cancer (754,000 deaths), and breast cancer (571,000 deaths)\n",
        "    \\\"\"\"\n",
        "    qa_input = {\n",
        "        'question': query,\n",
        "        'context': context\n",
        "    }\n",
        "    response = qa_pipeline(qa_input)['answer']\n",
        "    print(f\"QA Response: {response}\")  # Debugging output\n",
        "\n",
        "    # Use traditional NLP for NER and intent capture\n",
        "    doc = nlp(query)\n",
        "    entities = [(ent.text, ent.label_) for ent in doc.ents]\n",
        "    print(f\"Entities: {entities}\")  # Debugging output\n",
        "\n",
        "    # Determine intent based on entities and query content\n",
        "    if \"symptom\" in query.lower() or any(ent[1] == 'DISEASE' for ent in entities):\n",
        "        intent = \"general_health_info\"\n",
        "    else:\n",
        "        intent = \"specific_health_advice\"\n",
        "    print(f\"Intent: {intent}\")  # Debugging output\n",
        "\n",
        "    # Fallback mechanism\n",
        "    if \"I don't know\" in response or len(response) < 20:\n",
        "        response = \"I'm not sure about that. Please consult a healthcare professional.\"\n",
        "\n",
        "    return response, entities, intent\n",
        "\n",
        "def app():\n",
        "    st.title(\"Healthcare Query System\")\n",
        "\n",
        "    user_query = st.text_input(\"Enter your healthcare question:\")\n",
        "    if user_query:\n",
        "        response, entities, intent = process_query(user_query)\n",
        "        st.write(f\"Response: {response}\")\n",
        "        st.write(f\"Entities: {entities}\")\n",
        "        st.write(f\"Intent: {intent}\")\n",
        "\n",
        "    st.write(\"Note: This system is for informational purposes only. Consult a healthcare professional for medical advice.\")\n",
        "\n",
        "if __name__ == \"__main__\":\n",
        "    app()\n",
        "\"\"\"\n",
        "\n",
        "# Write the code to a file\n",
        "with open(\"app.py\", \"w\") as file:\n",
        "    file.write(app_code)\n",
        "\n",
        "!wget -q -O - ipv4.icanhazip.com\n",
        "\n",
        "# Run the Streamlit app in the background\n",
        "!streamlit run app.py &>/dev/null&\n",
        "\n",
        "# Start the localtunnel and provide a public URL\n",
        "!npx localtunnel --port 8501"
      ],
      "metadata": {
        "colab": {
          "base_uri": "https://localhost:8080/"
        },
        "id": "jTZaGOeuX_Sa",
        "outputId": "8d661e0f-9397-440d-e88f-e4d3ec6d9554"
      },
      "execution_count": 18,
      "outputs": [
        {
          "output_type": "stream",
          "name": "stdout",
          "text": [
            "34.124.184.66\n",
            "your url is: https://tasty-melons-roll.loca.lt\n",
            "^C\n"
          ]
        }
      ]
    }
  ],
  "metadata": {
    "colab": {
      "name": "Making the Most of your Colab Subscription",
      "provenance": [],
      "machine_shape": "hm",
      "gpuType": "T4",
      "include_colab_link": true
    },
    "kernelspec": {
      "display_name": "Python 3",
      "name": "python3"
    },
    "accelerator": "GPU"
  },
  "nbformat": 4,
  "nbformat_minor": 0
}